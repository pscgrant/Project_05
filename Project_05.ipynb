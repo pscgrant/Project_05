{
 "cells": [
  {
   "metadata": {},
   "cell_type": "markdown",
   "source": [
    "# This is a sample Jupyter Notebook\n",
    "\n",
    "Below is an example of a code cell. \n",
    "Put your cursor into the cell and press Shift+Enter to execute it and select the next one, or click 'Run Cell' button.\n",
    "\n",
    "Press Double Shift to search everywhere for classes, files, tool windows, actions, and settings.\n",
    "\n",
    "To learn more about Jupyter Notebooks in PyCharm, see [help](https://www.jetbrains.com/help/pycharm/ipython-notebook-support.html).\n",
    "For an overview of PyCharm, go to Help -> Learn IDE features or refer to [our documentation](https://www.jetbrains.com/help/pycharm/getting-started.html)."
   ],
   "id": "8a77807f92f26ee"
  },
  {
   "metadata": {
    "ExecuteTime": {
     "end_time": "2024-11-22T04:19:23.575141Z",
     "start_time": "2024-11-22T04:19:23.568767Z"
    }
   },
   "cell_type": "code",
   "source": [
    "import tkinter as tk\n",
    "\n",
    "def button_clicked(value):\n",
    "    current = entry.get()\n",
    "    entry.delete(0, tk.END)\n",
    "    entry.insert(0, current + str(value))\n",
    "\n",
    "def clear():\n",
    "    entry.delete(0, tk.END)\n",
    "    \n",
    "def calculate():\n",
    "    try:\n",
    "        result = eval(entry.get())\n",
    "        entry.delete(0, tk.END)\n",
    "        entry.insert(0, str(result))\n",
    "    except Exception as e:\n",
    "        entry.delete(0, tk.END)\n",
    "        entry.insert(tk.END, \"Error\")\n",
    "\n",
    "def backspace():\n",
    "    current = entry.get()\n",
    "    entry.delete(0, tk.END)\n",
    "    entry.insert(tk.END, current[:-1])\n",
    "\n",
    "root = tk.Tk()\n",
    "root.title(\"Calculator\")\n",
    "root.geometry(\"300x400\")\n",
    "\n",
    "entry = tk.Entry(root, width=20, font=('Arial', 20), justify=tk.RIGHT, bd=10)\n",
    "entry.grid(row=0, column=0, columnspan=4, padx=10, pady=10, ipady=20)\n",
    "\n",
    "buttons = [\n",
    "    '7', '8', '9', '/',\n",
    "    '4', '5', '6', '*',\n",
    "    '1', '2', '3', '-',\n",
    "    '0', '.', '=', '+'\n",
    "]\n",
    "\n",
    "row_val = 1\n",
    "col_val = 0\n",
    "\n",
    "for button in buttons:\n",
    "    tk.Button(\n",
    "        root, text=button, padx=20, pady=20, font=('Arial', 16), command=lambda b=button: button_clicked(b) if b != '=' else calculate(),\n",
    "        bg=\"#61dafb\",\n",
    "        fg=\"#282c35\"\n",
    "    ).grid(row_val=row_val, col_val=col_val, sticky=\"nsew\")\n",
    "    col_val += 1\n",
    "    if col_val > 3:\n",
    "        col_val = 0\n",
    "        row_val += 1\n",
    "\n",
    "tk.button(\n",
    "    root, text='C', padx=20, pady=20, font=('Arial', 16), command=clear(), bg=\"#ff6b6b\", fg=\"#282c35\"\n",
    ").grid(row_val=row_val, col_val=col_val, sticky=\"nsew\")\n",
    "col_val += 1\n",
    "tk.Button(\n",
    "    root, text='⌫', padx=20, pady=20, font=('Arial', 16), command=backspace(), bg=\"#ff6b6b\", fg=\"#282c35\"\n",
    ").grid(row_val=row_val, col_val=col_val, sticky=\"nsew\")\n",
    "\n",
    "for i in range(1, 5):\n",
    "    root.grid_rowconfigure(i, weight=1)\n",
    "    root.grid_columnconfigure(i, weight=1)\n",
    "\n",
    "root.mainloop()\n"
   ],
   "id": "fbc121e30a2defb3",
   "outputs": [
    {
     "ename": "SyntaxError",
     "evalue": "invalid syntax. Perhaps you forgot a comma? (369083902.py, line 45)",
     "output_type": "error",
     "traceback": [
      "\u001B[0;36m  Cell \u001B[0;32mIn[2], line 45\u001B[0;36m\u001B[0m\n\u001B[0;31m    bg=\"#61dafb\"\u001B[0m\n\u001B[0m       ^\u001B[0m\n\u001B[0;31mSyntaxError\u001B[0m\u001B[0;31m:\u001B[0m invalid syntax. Perhaps you forgot a comma?\n"
     ]
    }
   ],
   "execution_count": 2
  }
 ],
 "metadata": {
  "kernelspec": {
   "display_name": "Python 3",
   "language": "python",
   "name": "python3"
  },
  "language_info": {
   "codemirror_mode": {
    "name": "ipython",
    "version": 2
   },
   "file_extension": ".py",
   "mimetype": "text/x-python",
   "name": "python",
   "nbconvert_exporter": "python",
   "pygments_lexer": "ipython2",
   "version": "2.7.6"
  }
 },
 "nbformat": 4,
 "nbformat_minor": 5
}
